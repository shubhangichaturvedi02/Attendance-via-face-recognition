{
 "cells": [
  {
   "cell_type": "code",
   "execution_count": 2,
   "id": "static-salvation",
   "metadata": {},
   "outputs": [
    {
     "name": "stdout",
     "output_type": "stream",
     "text": [
      "Collecting cmake\n",
      "  Downloading cmake-3.18.4.post1-py3-none-win_amd64.whl (34.7 MB)\n",
      "Installing collected packages: cmake\n",
      "Successfully installed cmake-3.18.4.post1\n"
     ]
    }
   ],
   "source": [
    "!pip install cmake"
   ]
  },
  {
   "cell_type": "code",
   "execution_count": 8,
   "id": "greatest-bowling",
   "metadata": {},
   "outputs": [
    {
     "name": "stdout",
     "output_type": "stream",
     "text": [
      "Collecting image\n",
      "  Downloading image-1.5.33.tar.gz (15 kB)\n",
      "Requirement already satisfied: six in c:\\users\\shubhangi\\anaconda3\\envs\\dlib_env\\lib\\site-packages (from image) (1.15.0)\n",
      "Collecting django\n",
      "  Using cached Django-3.1.6-py3-none-any.whl (7.8 MB)\n",
      "Collecting asgiref<4,>=3.2.10\n",
      "  Using cached asgiref-3.3.1-py3-none-any.whl (19 kB)\n",
      "Collecting sqlparse>=0.2.2\n",
      "  Using cached sqlparse-0.4.1-py3-none-any.whl (42 kB)\n",
      "Collecting pillow\n",
      "  Downloading Pillow-8.1.0-cp37-cp37m-win_amd64.whl (2.2 MB)\n",
      "Collecting pytz\n",
      "  Using cached pytz-2021.1-py2.py3-none-any.whl (510 kB)\n",
      "Building wheels for collected packages: image\n",
      "  Building wheel for image (setup.py): started\n",
      "  Building wheel for image (setup.py): finished with status 'done'\n",
      "  Created wheel for image: filename=image-1.5.33-py2.py3-none-any.whl size=19482 sha256=92fd5bf48543a218aaf3bfde23fe97dda64bc1ff4651d3f8fbe414bd50ca7151\n",
      "  Stored in directory: c:\\users\\shubhangi\\appdata\\local\\pip\\cache\\wheels\\56\\88\\e6\\897194cfe8c08a8b9afd881d3bf53d102e13fa39607d721383\n",
      "Successfully built image\n",
      "Installing collected packages: sqlparse, pytz, asgiref, pillow, django, image\n",
      "Successfully installed asgiref-3.3.1 django-3.1.6 image-1.5.33 pillow-8.1.0 pytz-2021.1 sqlparse-0.4.1\n"
     ]
    },
    {
     "name": "stderr",
     "output_type": "stream",
     "text": [
      "ERROR: pip's dependency resolver does not currently take into account all the packages that are installed. This behaviour is the source of the following dependency conflicts.\n",
      "face-recognition 1.3.0 requires Click>=6.0, which is not installed.\n",
      "face-recognition 1.3.0 requires face-recognition-models>=0.3.0, which is not installed.\n"
     ]
    }
   ],
   "source": [
    "!pip install image"
   ]
  },
  {
   "cell_type": "code",
   "execution_count": 9,
   "id": "equipped-mainland",
   "metadata": {},
   "outputs": [
    {
     "name": "stdout",
     "output_type": "stream",
     "text": [
      "Requirement already satisfied: face_recognition in c:\\users\\shubhangi\\anaconda3\\envs\\dlib_env\\lib\\site-packages (1.3.0)"
     ]
    },
    {
     "name": "stderr",
     "output_type": "stream",
     "text": [
      "ERROR: Exception:\n",
      "Traceback (most recent call last):\n",
      "  File \"C:\\Users\\Shubhangi\\anaconda3\\envs\\dlib_env\\lib\\site-packages\\pip\\_internal\\cli\\base_command.py\", line 224, in _main\n",
      "    status = self.run(options, args)\n",
      "  File \"C:\\Users\\Shubhangi\\anaconda3\\envs\\dlib_env\\lib\\site-packages\\pip\\_internal\\cli\\req_command.py\", line 180, in wrapper\n",
      "    return func(self, options, args)\n",
      "  File \"C:\\Users\\Shubhangi\\anaconda3\\envs\\dlib_env\\lib\\site-packages\\pip\\_internal\\commands\\install.py\", line 321, in run\n",
      "    reqs, check_supported_wheels=not options.target_dir\n",
      "  File \"C:\\Users\\Shubhangi\\anaconda3\\envs\\dlib_env\\lib\\site-packages\\pip\\_internal\\resolution\\resolvelib\\resolver.py\", line 122, in resolve\n",
      "    requirements, max_rounds=try_to_avoid_resolution_too_deep,\n",
      "  File \"C:\\Users\\Shubhangi\\anaconda3\\envs\\dlib_env\\lib\\site-packages\\pip\\_vendor\\resolvelib\\resolvers.py\", line 445, in resolve\n",
      "    state = resolution.resolve(requirements, max_rounds=max_rounds)\n",
      "  File \"C:\\Users\\Shubhangi\\anaconda3\\envs\\dlib_env\\lib\\site-packages\\pip\\_vendor\\resolvelib\\resolvers.py\", line 339, in resolve\n"
     ]
    },
    {
     "name": "stdout",
     "output_type": "stream",
     "text": [
      "\n",
      "Requirement already satisfied: dlib>=19.7 in c:\\users\\shubhangi\\anaconda3\\envs\\dlib_env\\lib\\site-packages (from face_recognition) (19.21.1)\n",
      "Requirement already satisfied: numpy in c:\\users\\shubhangi\\anaconda3\\envs\\dlib_env\\lib\\site-packages (from face_recognition) (1.20.0)\n",
      "Requirement already satisfied: Pillow in c:\\users\\shubhangi\\anaconda3\\envs\\dlib_env\\lib\\site-packages (from face_recognition) (8.1.0)\n",
      "Collecting Click>=6.0\n",
      "  Using cached click-7.1.2-py2.py3-none-any.whl (82 kB)\n",
      "Collecting face-recognition-models>=0.3.0\n",
      "  Downloading face_recognition_models-0.3.0.tar.gz (100.1 MB)\n"
     ]
    },
    {
     "name": "stderr",
     "output_type": "stream",
     "text": [
      "    failure_causes = self._attempt_to_pin_criterion(name, criterion)\n",
      "  File \"C:\\Users\\Shubhangi\\anaconda3\\envs\\dlib_env\\lib\\site-packages\\pip\\_vendor\\resolvelib\\resolvers.py\", line 207, in _attempt_to_pin_criterion\n",
      "    criteria = self._get_criteria_to_update(candidate)\n",
      "  File \"C:\\Users\\Shubhangi\\anaconda3\\envs\\dlib_env\\lib\\site-packages\\pip\\_vendor\\resolvelib\\resolvers.py\", line 198, in _get_criteria_to_update\n",
      "    for r in self._p.get_dependencies(candidate):\n",
      "  File \"C:\\Users\\Shubhangi\\anaconda3\\envs\\dlib_env\\lib\\site-packages\\pip\\_internal\\resolution\\resolvelib\\provider.py\", line 172, in get_dependencies\n",
      "    for r in candidate.iter_dependencies(with_requires)\n",
      "  File \"C:\\Users\\Shubhangi\\anaconda3\\envs\\dlib_env\\lib\\site-packages\\pip\\_internal\\resolution\\resolvelib\\provider.py\", line 171, in <listcomp>\n",
      "    r\n",
      "  File \"C:\\Users\\Shubhangi\\anaconda3\\envs\\dlib_env\\lib\\site-packages\\pip\\_internal\\resolution\\resolvelib\\candidates.py\", line 257, in iter_dependencies\n",
      "    requires = self.dist.requires() if with_requires else ()\n",
      "  File \"C:\\Users\\Shubhangi\\anaconda3\\envs\\dlib_env\\lib\\site-packages\\pip\\_internal\\resolution\\resolvelib\\candidates.py\", line 239, in dist\n",
      "    self._prepare()\n",
      "  File \"C:\\Users\\Shubhangi\\anaconda3\\envs\\dlib_env\\lib\\site-packages\\pip\\_internal\\resolution\\resolvelib\\candidates.py\", line 226, in _prepare\n",
      "    dist = self._prepare_distribution()\n",
      "  File \"C:\\Users\\Shubhangi\\anaconda3\\envs\\dlib_env\\lib\\site-packages\\pip\\_internal\\resolution\\resolvelib\\candidates.py\", line 319, in _prepare_distribution\n",
      "    self._ireq, parallel_builds=True,\n",
      "  File \"C:\\Users\\Shubhangi\\anaconda3\\envs\\dlib_env\\lib\\site-packages\\pip\\_internal\\operations\\prepare.py\", line 480, in prepare_linked_requirement\n",
      "    return self._prepare_linked_requirement(req, parallel_builds)\n",
      "  File \"C:\\Users\\Shubhangi\\anaconda3\\envs\\dlib_env\\lib\\site-packages\\pip\\_internal\\operations\\prepare.py\", line 505, in _prepare_linked_requirement\n",
      "    self.download_dir, hashes,\n",
      "  File \"C:\\Users\\Shubhangi\\anaconda3\\envs\\dlib_env\\lib\\site-packages\\pip\\_internal\\operations\\prepare.py\", line 257, in unpack_url\n",
      "    hashes=hashes,\n",
      "  File \"C:\\Users\\Shubhangi\\anaconda3\\envs\\dlib_env\\lib\\site-packages\\pip\\_internal\\operations\\prepare.py\", line 130, in get_http_url\n",
      "    from_path, content_type = download(link, temp_dir.path)\n",
      "  File \"C:\\Users\\Shubhangi\\anaconda3\\envs\\dlib_env\\lib\\site-packages\\pip\\_internal\\network\\download.py\", line 163, in __call__\n",
      "    for chunk in chunks:\n",
      "  File \"C:\\Users\\Shubhangi\\anaconda3\\envs\\dlib_env\\lib\\site-packages\\pip\\_internal\\cli\\progress_bars.py\", line 168, in iter\n",
      "    for x in it:\n",
      "  File \"C:\\Users\\Shubhangi\\anaconda3\\envs\\dlib_env\\lib\\site-packages\\pip\\_internal\\network\\utils.py\", line 88, in response_chunks\n",
      "    decode_content=False,\n",
      "  File \"C:\\Users\\Shubhangi\\anaconda3\\envs\\dlib_env\\lib\\site-packages\\pip\\_vendor\\urllib3\\response.py\", line 576, in stream\n",
      "    data = self.read(amt=amt, decode_content=decode_content)\n",
      "  File \"C:\\Users\\Shubhangi\\anaconda3\\envs\\dlib_env\\lib\\site-packages\\pip\\_vendor\\urllib3\\response.py\", line 519, in read\n",
      "    data = self._fp.read(amt) if not fp_closed else b\"\"\n",
      "  File \"C:\\Users\\Shubhangi\\anaconda3\\envs\\dlib_env\\lib\\site-packages\\pip\\_vendor\\cachecontrol\\filewrapper.py\", line 63, in read\n",
      "    self.__buf.write(data)\n",
      "MemoryError\n"
     ]
    }
   ],
   "source": [
    "!pip install face_recognition"
   ]
  },
  {
   "cell_type": "code",
   "execution_count": 5,
   "id": "twelve-effectiveness",
   "metadata": {},
   "outputs": [
    {
     "name": "stdout",
     "output_type": "stream",
     "text": [
      "Collecting face_recognition\n",
      "  Using cached face_recognition-1.3.0-py2.py3-none-any.whl (15 kB)\n",
      "Installing collected packages: face-recognition\n",
      "Successfully installed face-recognition-1.3.0\n"
     ]
    }
   ],
   "source": [
    "!pip install --no-dependencies face_recognition"
   ]
  },
  {
   "cell_type": "code",
   "execution_count": 6,
   "id": "secure-treasurer",
   "metadata": {},
   "outputs": [
    {
     "name": "stdout",
     "output_type": "stream",
     "text": [
      "Collecting opencv-python\n",
      "  Downloading opencv_python-4.5.1.48-cp37-cp37m-win_amd64.whl (34.9 MB)\n",
      "Requirement already satisfied: numpy>=1.14.5 in c:\\users\\shubhangi\\anaconda3\\envs\\dlib_env\\lib\\site-packages (from opencv-python) (1.20.0)\n",
      "Installing collected packages: opencv-python\n",
      "Successfully installed opencv-python-4.5.1.48\n"
     ]
    }
   ],
   "source": [
    "!pip install opencv-python"
   ]
  },
  {
   "cell_type": "code",
   "execution_count": 1,
   "id": "polyphonic-overhead",
   "metadata": {},
   "outputs": [],
   "source": [
    "import cv2\n",
    "import numpy as np\n",
    "import face_recognition\n",
    "import os\n",
    "from datetime import datetime"
   ]
  },
  {
   "cell_type": "code",
   "execution_count": 2,
   "id": "desirable-market",
   "metadata": {},
   "outputs": [
    {
     "name": "stdout",
     "output_type": "stream",
     "text": [
      "['Bill gates.jpg', 'Elon Test.jpg', 'Elon-musk.jpg']\n",
      "['Bill gates', 'Elon Test', 'Elon-musk']\n"
     ]
    }
   ],
   "source": [
    "path = 'ImagesAttendance'\n",
    "images = []\n",
    "classNames = []\n",
    "myList = os.listdir(path)\n",
    "print(myList)\n",
    "for cl in myList:\n",
    "    curImg = cv2.imread(f'{path}/{cl}')\n",
    "    images.append(curImg)\n",
    "    classNames.append(os.path.splitext(cl)[0])\n",
    "print(classNames)\n",
    "     "
   ]
  },
  {
   "cell_type": "code",
   "execution_count": 3,
   "id": "surprised-helmet",
   "metadata": {},
   "outputs": [],
   "source": [
    "def findEncodings(images):\n",
    "    encodeList = []\n",
    "    for img in images:\n",
    "        img = cv2.cvtColor(img, cv2.COLOR_BGR2RGB)\n",
    "        encode = face_recognition.face_encodings(img)[0]\n",
    "        encodeList.append(encode)\n",
    "    return encodeList"
   ]
  },
  {
   "cell_type": "code",
   "execution_count": 4,
   "id": "flexible-internet",
   "metadata": {},
   "outputs": [],
   "source": [
    "def markAttendance(name):\n",
    "    with open('Attendance.csv','r+') as f:\n",
    "        myDataList = f.readlines()\n",
    "        nameList = []\n",
    "        for line in myDataList:\n",
    "            entry = line.split(',')\n",
    "            nameList.append(entry[0])\n",
    "        if name not in nameList:\n",
    "            now = datetime.now()\n",
    "            dtString = now.strftime('%H:%M:%S')\n",
    "            f.writelines(f'\\n{name},{dtString}')\n",
    " "
   ]
  },
  {
   "cell_type": "code",
   "execution_count": 5,
   "id": "plain-diagram",
   "metadata": {},
   "outputs": [
    {
     "name": "stdout",
     "output_type": "stream",
     "text": [
      "Encoding Complete\n"
     ]
    }
   ],
   "source": [
    "encodeListKnown = findEncodings(images)\n",
    "print('Encoding Complete')"
   ]
  },
  {
   "cell_type": "code",
   "execution_count": null,
   "id": "compound-couple",
   "metadata": {},
   "outputs": [
    {
     "name": "stdout",
     "output_type": "stream",
     "text": [
      "ELON-MUSK\n",
      "ELON-MUSK\n",
      "ELON-MUSK\n",
      "ELON-MUSK\n",
      "BILL GATES\n",
      "BILL GATES\n",
      "BILL GATES\n",
      "BILL GATES\n",
      "BILL GATES\n"
     ]
    }
   ],
   "source": [
    "cap = cv2.VideoCapture(0)\n",
    " \n",
    "while True:\n",
    "    success, img = cap.read()\n",
    "#img = captureScreen()\n",
    "    imgS = cv2.resize(img,(0,0),None,0.25,0.25)\n",
    "    imgS = cv2.cvtColor(imgS, cv2.COLOR_BGR2RGB)\n",
    "    \n",
    "    facesCurFrame = face_recognition.face_locations(imgS)\n",
    "    encodesCurFrame = face_recognition.face_encodings(imgS,facesCurFrame)\n",
    "    for encodeFace,faceLoc in zip(encodesCurFrame,facesCurFrame):\n",
    "        matches = face_recognition.compare_faces(encodeListKnown,encodeFace)\n",
    "        faceDis = face_recognition.face_distance(encodeListKnown,encodeFace)\n",
    "        #print(faceDis)\n",
    "        matchIndex = np.argmin(faceDis)\n",
    "        \n",
    "        if matches[matchIndex]:\n",
    "            name = classNames[matchIndex].upper()\n",
    "            print(name)\n",
    "            y1,x2,y2,x1 = faceLoc\n",
    "            y1, x2, y2, x1 = y1*4,x2*4,y2*4,x1*4\n",
    "            cv2.rectangle(img,(x1,y1),(x2,y2),(0,255,0),2)\n",
    "            cv2.rectangle(img,(x1,y2-35),(x2,y2),(0,255,0),cv2.FILLED)\n",
    "            cv2.putText(img,name,(x1+6,y2-6),cv2.FONT_HERSHEY_COMPLEX,1,(255,255,255),2)\n",
    "            markAttendance(name)\n",
    "    cv2.imshow('Webcam',img)\n",
    "    cv2.waitKey(1)"
   ]
  },
  {
   "cell_type": "code",
   "execution_count": null,
   "id": "antique-helen",
   "metadata": {},
   "outputs": [],
   "source": []
  }
 ],
 "metadata": {
  "kernelspec": {
   "display_name": "Python 3",
   "language": "python",
   "name": "python3"
  },
  "language_info": {
   "codemirror_mode": {
    "name": "ipython",
    "version": 3
   },
   "file_extension": ".py",
   "mimetype": "text/x-python",
   "name": "python",
   "nbconvert_exporter": "python",
   "pygments_lexer": "ipython3",
   "version": "3.7.9"
  }
 },
 "nbformat": 4,
 "nbformat_minor": 5
}
